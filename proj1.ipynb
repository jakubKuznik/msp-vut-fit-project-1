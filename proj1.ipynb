{
 "cells": [
  {
   "cell_type": "markdown",
   "metadata": {},
   "source": [
    "# Projekt MSP1\n",
    "Cílem tohoto projektu je se seznámit s programovými nástroji využívaných ve statistice a osvojit si základní procedury. Projekt není primárně zaměřen na efektivitu využívání programového vybavení (i když úplně nevhodné konstrukce mohou mít vliv na hodnocení), ale nejvíce nás zajímají vaše statistické závěry a způsob vyhodnocení. Dbejte také na to, že každý graf musí splňovat nějaké podmínky - přehlednost, čitelnost, popisky.\n",
    "\n",
    "V projektu budete analyzovat časy běhu šesti různých konfigurací algoritmů. Ke každé konfiguraci vzniklo celkem 200 nezávislých běhů, jejichž logy máte k dispozici v souboru [logfiles.zip](logfiles.zip).\n",
    "\n",
    "Pokud nemáte rozchozené prostředí pro pro spouštění Jupyter notebooku, můžete využití službu [Google Colab](https://colab.google/). Jakákoliv spolupráce, sdílení řešení a podobně je zakázána!\n",
    "\n",
    "S případnými dotazy se obracejte na Vojtěcha Mrázka (mrazek@fit.vutbr.cz).\n",
    "\n",
    "__Odevzdání:__ tento soubor (není potřeba aby obsahoval výstupy skriptů) do neděle 22. 10. 2023 v IS VUT. Kontrola bude probíhat na Pythonu 3.10.12; neočekává se však to, že byste používali nějaké speciality a nekompatibilní knihovny. V případě nesouladu verzí a podobných problémů budete mít možnost reklamace a prokázání správnosti funkce. Bez vyplnění vašich komentářů a závěrů do označených buněk nebude projekt hodnocen!\n",
    "\n",
    "__Upozornění:__ nepřidávejte do notebooku další buňky, odpovídejte tam, kam se ptáme (textové komentáře do Markdown buněk)\n",
    "\n",
    "__Tip:__ před odevzdáním resetujte celý notebook a zkuste jej spustit od začátku. Zamezíte tak chybám krokování a editací, kdy výsledek z buňky na konci použijete na začátku."
   ]
  },
  {
   "cell_type": "markdown",
   "metadata": {},
   "source": [
    "__OTÁZKA K DOPLNĚNÍ:__\n",
    "\n",
    "_Jakub Kuzník xkuzni04_"
   ]
  },
  {
   "cell_type": "markdown",
   "metadata": {},
   "source": [
    "## Načtení potřebných knihoven\n",
    "Načtěte knihovny, které jsou nutné pro zpracování souborů a práci se statistickými funkcemi. Není dovoleno načítat jiné knihovny."
   ]
  },
  {
   "cell_type": "code",
   "execution_count": 3,
   "metadata": {},
   "outputs": [],
   "source": [
    "import numpy as np\n",
    "import pandas as pd\n",
    "import matplotlib.pyplot as plt\n",
    "import scipy.stats as stats\n",
    "import seaborn as sns\n",
    "from zipfile import ZipFile"
   ]
  },
  {
   "cell_type": "markdown",
   "metadata": {},
   "source": [
    "## Načtení dat do DataFrame\n",
    "Ze souboru `logfiles.zip` umístěném ve stejném adresáři načtěte data a vytvořte Pandas DataFrame.\n",
    "\n",
    "Z logu vás budou nejvíce zajímat řádky\n",
    "```\n",
    "Configuration: config6\n",
    "Run: 191\n",
    "Time of run: 53.298725254089774\n",
    "```\n",
    "\n",
    "Můžete využít následující kostru - je vhodné pracovat přímo se ZIP souborem. Jedinou nevýhodou je to, že vám bude vracet _byte_ objekt, který musíte přes funkci `decode` zpracovat."
   ]
  },
  {
   "cell_type": "code",
   "execution_count": 4,
   "metadata": {},
   "outputs": [
    {
     "data": {
      "text/html": [
       "<div>\n",
       "<style scoped>\n",
       "    .dataframe tbody tr th:only-of-type {\n",
       "        vertical-align: middle;\n",
       "    }\n",
       "\n",
       "    .dataframe tbody tr th {\n",
       "        vertical-align: top;\n",
       "    }\n",
       "\n",
       "    .dataframe thead th {\n",
       "        text-align: right;\n",
       "    }\n",
       "</style>\n",
       "<table border=\"1\" class=\"dataframe\">\n",
       "  <thead>\n",
       "    <tr style=\"text-align: right;\">\n",
       "      <th></th>\n",
       "      <th>conf</th>\n",
       "      <th>run</th>\n",
       "      <th>time</th>\n",
       "    </tr>\n",
       "  </thead>\n",
       "  <tbody>\n",
       "    <tr>\n",
       "      <th>0</th>\n",
       "      <td>config1</td>\n",
       "      <td>0</td>\n",
       "      <td>104.967142</td>\n",
       "    </tr>\n",
       "    <tr>\n",
       "      <th>1</th>\n",
       "      <td>config1</td>\n",
       "      <td>1</td>\n",
       "      <td>98.617357</td>\n",
       "    </tr>\n",
       "    <tr>\n",
       "      <th>2</th>\n",
       "      <td>config1</td>\n",
       "      <td>2</td>\n",
       "      <td>106.476885</td>\n",
       "    </tr>\n",
       "    <tr>\n",
       "      <th>3</th>\n",
       "      <td>config1</td>\n",
       "      <td>3</td>\n",
       "      <td>115.230299</td>\n",
       "    </tr>\n",
       "    <tr>\n",
       "      <th>4</th>\n",
       "      <td>config1</td>\n",
       "      <td>4</td>\n",
       "      <td>97.658466</td>\n",
       "    </tr>\n",
       "    <tr>\n",
       "      <th>...</th>\n",
       "      <td>...</td>\n",
       "      <td>...</td>\n",
       "      <td>...</td>\n",
       "    </tr>\n",
       "    <tr>\n",
       "      <th>1195</th>\n",
       "      <td>config6</td>\n",
       "      <td>195</td>\n",
       "      <td>168.809495</td>\n",
       "    </tr>\n",
       "    <tr>\n",
       "      <th>1196</th>\n",
       "      <td>config6</td>\n",
       "      <td>196</td>\n",
       "      <td>159.607244</td>\n",
       "    </tr>\n",
       "    <tr>\n",
       "      <th>1197</th>\n",
       "      <td>config6</td>\n",
       "      <td>197</td>\n",
       "      <td>171.049799</td>\n",
       "    </tr>\n",
       "    <tr>\n",
       "      <th>1198</th>\n",
       "      <td>config6</td>\n",
       "      <td>198</td>\n",
       "      <td>164.478283</td>\n",
       "    </tr>\n",
       "    <tr>\n",
       "      <th>1199</th>\n",
       "      <td>config6</td>\n",
       "      <td>199</td>\n",
       "      <td>187.282809</td>\n",
       "    </tr>\n",
       "  </tbody>\n",
       "</table>\n",
       "<p>1200 rows × 3 columns</p>\n",
       "</div>"
      ],
      "text/plain": [
       "         conf  run        time\n",
       "0     config1    0  104.967142\n",
       "1     config1    1   98.617357\n",
       "2     config1    2  106.476885\n",
       "3     config1    3  115.230299\n",
       "4     config1    4   97.658466\n",
       "...       ...  ...         ...\n",
       "1195  config6  195  168.809495\n",
       "1196  config6  196  159.607244\n",
       "1197  config6  197  171.049799\n",
       "1198  config6  198  164.478283\n",
       "1199  config6  199  187.282809\n",
       "\n",
       "[1200 rows x 3 columns]"
      ]
     },
     "execution_count": 4,
     "metadata": {},
     "output_type": "execute_result"
    }
   ],
   "source": [
    "def load_logfile(f) -> dict:\n",
    "    \"\"\"Load a logfile from a file-like object and return a dict with the data.\"\"\"\n",
    "    data = {\n",
    "        \"conf\": None,\n",
    "        \"run\": None,\n",
    "        \"time\": np.nan\n",
    "    }\n",
    "\n",
    "    for line in f:\n",
    "        line = line.decode(\"utf-8\")\n",
    "\n",
    "        # In loaded line it will get rid of spaces \n",
    "        # and line ends symbols \n",
    "        line = line.replace(\" \", \"\")\n",
    "        line = line.replace(\"\\n\", \"\")\n",
    "        \n",
    "        # Split string before and after delimeter into two \n",
    "        split_string = line.split(\":\")\n",
    "\n",
    "        # Match first string and store the second one into dict.\n",
    "        # !! We are even storying not SUCCESS status.\n",
    "        if split_string[0] == \"Configuration\":\n",
    "            data[\"conf\"] = split_string[1]\n",
    "        elif split_string[0] == \"Run\":\n",
    "            data[\"run\"] = split_string[1]\n",
    "        elif split_string[0] == \"Timeofrun\":\n",
    "            data[\"time\"] = float(split_string[1])\n",
    "        \n",
    "    return data\n",
    "\n",
    "data = []\n",
    "with ZipFile(\"logfiles.zip\") as zf:\n",
    "    for filename in zf.namelist():\n",
    "        with zf.open(filename, \"r\") as f:\n",
    "            data.append(load_logfile(f))\n",
    "            \n",
    "df = pd.DataFrame(data)\n",
    "df\n"
   ]
  },
  {
   "cell_type": "markdown",
   "metadata": {},
   "source": [
    "## Analýza a čištění dat\n",
    "Vhodným způsobem pro všechny konfigurace analyzujte časy běhů a pokud tam jsou, identifikujte hodnoty, které jsou chybné. "
   ]
  },
  {
   "cell_type": "code",
   "execution_count": 67,
   "metadata": {},
   "outputs": [
    {
     "ename": "ValueError",
     "evalue": "List of boxplot statistics and `positions` values must have same the length",
     "output_type": "error",
     "traceback": [
      "\u001b[0;31m---------------------------------------------------------------------------\u001b[0m",
      "\u001b[0;31mValueError\u001b[0m                                Traceback (most recent call last)",
      "Cell \u001b[0;32mIn[67], line 10\u001b[0m\n\u001b[1;32m      6\u001b[0m \u001b[38;5;66;03m# Get name of all configs \u001b[39;00m\n\u001b[1;32m      7\u001b[0m \u001b[38;5;66;03m# [config1, config2, ... ]\u001b[39;00m\n\u001b[1;32m      8\u001b[0m unique_configs \u001b[38;5;241m=\u001b[39m df[\u001b[38;5;124m'\u001b[39m\u001b[38;5;124mconf\u001b[39m\u001b[38;5;124m'\u001b[39m]\u001b[38;5;241m.\u001b[39munique()\n\u001b[0;32m---> 10\u001b[0m \u001b[43msns\u001b[49m\u001b[38;5;241;43m.\u001b[39;49m\u001b[43mboxplot\u001b[49m\u001b[43m(\u001b[49m\u001b[43mx\u001b[49m\u001b[38;5;241;43m=\u001b[39;49m\u001b[38;5;124;43m'\u001b[39;49m\u001b[38;5;124;43mconf\u001b[39;49m\u001b[38;5;124;43m'\u001b[39;49m\u001b[43m,\u001b[49m\u001b[43m \u001b[49m\u001b[43my\u001b[49m\u001b[38;5;241;43m=\u001b[39;49m\u001b[38;5;124;43m'\u001b[39;49m\u001b[38;5;124;43mtime\u001b[39;49m\u001b[38;5;124;43m'\u001b[39;49m\u001b[43m,\u001b[49m\u001b[43m \u001b[49m\u001b[43mdata\u001b[49m\u001b[38;5;241;43m=\u001b[39;49m\u001b[43mdf\u001b[49m\u001b[43m)\u001b[49m\n\u001b[1;32m     12\u001b[0m \u001b[38;5;66;03m#df\u001b[39;00m\n\u001b[1;32m     13\u001b[0m plt\u001b[38;5;241m.\u001b[39mshow()\n",
      "File \u001b[0;32m~/.local/lib/python3.10/site-packages/seaborn/categorical.py:1619\u001b[0m, in \u001b[0;36mboxplot\u001b[0;34m(data, x, y, hue, order, hue_order, orient, color, palette, saturation, fill, dodge, width, gap, whis, linecolor, linewidth, fliersize, hue_norm, native_scale, log_scale, formatter, legend, ax, **kwargs)\u001b[0m\n\u001b[1;32m   1612\u001b[0m color \u001b[38;5;241m=\u001b[39m _default_color(\n\u001b[1;32m   1613\u001b[0m     ax\u001b[38;5;241m.\u001b[39mfill_between, hue, color,\n\u001b[1;32m   1614\u001b[0m     {k: v \u001b[38;5;28;01mfor\u001b[39;00m k, v \u001b[38;5;129;01min\u001b[39;00m kwargs\u001b[38;5;241m.\u001b[39mitems() \u001b[38;5;28;01mif\u001b[39;00m k \u001b[38;5;129;01min\u001b[39;00m [\u001b[38;5;124m\"\u001b[39m\u001b[38;5;124mc\u001b[39m\u001b[38;5;124m\"\u001b[39m, \u001b[38;5;124m\"\u001b[39m\u001b[38;5;124mcolor\u001b[39m\u001b[38;5;124m\"\u001b[39m, \u001b[38;5;124m\"\u001b[39m\u001b[38;5;124mfc\u001b[39m\u001b[38;5;124m\"\u001b[39m, \u001b[38;5;124m\"\u001b[39m\u001b[38;5;124mfacecolor\u001b[39m\u001b[38;5;124m\"\u001b[39m]},\n\u001b[1;32m   1615\u001b[0m     saturation\u001b[38;5;241m=\u001b[39msaturation,\n\u001b[1;32m   1616\u001b[0m )\n\u001b[1;32m   1617\u001b[0m linecolor \u001b[38;5;241m=\u001b[39m p\u001b[38;5;241m.\u001b[39m_complement_color(linecolor, color, p\u001b[38;5;241m.\u001b[39m_hue_map)\n\u001b[0;32m-> 1619\u001b[0m \u001b[43mp\u001b[49m\u001b[38;5;241;43m.\u001b[39;49m\u001b[43mplot_boxes\u001b[49m\u001b[43m(\u001b[49m\n\u001b[1;32m   1620\u001b[0m \u001b[43m    \u001b[49m\u001b[43mwidth\u001b[49m\u001b[38;5;241;43m=\u001b[39;49m\u001b[43mwidth\u001b[49m\u001b[43m,\u001b[49m\n\u001b[1;32m   1621\u001b[0m \u001b[43m    \u001b[49m\u001b[43mdodge\u001b[49m\u001b[38;5;241;43m=\u001b[39;49m\u001b[43mdodge\u001b[49m\u001b[43m,\u001b[49m\n\u001b[1;32m   1622\u001b[0m \u001b[43m    \u001b[49m\u001b[43mgap\u001b[49m\u001b[38;5;241;43m=\u001b[39;49m\u001b[43mgap\u001b[49m\u001b[43m,\u001b[49m\n\u001b[1;32m   1623\u001b[0m \u001b[43m    \u001b[49m\u001b[43mfill\u001b[49m\u001b[38;5;241;43m=\u001b[39;49m\u001b[43mfill\u001b[49m\u001b[43m,\u001b[49m\n\u001b[1;32m   1624\u001b[0m \u001b[43m    \u001b[49m\u001b[43mwhis\u001b[49m\u001b[38;5;241;43m=\u001b[39;49m\u001b[43mwhis\u001b[49m\u001b[43m,\u001b[49m\n\u001b[1;32m   1625\u001b[0m \u001b[43m    \u001b[49m\u001b[43mcolor\u001b[49m\u001b[38;5;241;43m=\u001b[39;49m\u001b[43mcolor\u001b[49m\u001b[43m,\u001b[49m\n\u001b[1;32m   1626\u001b[0m \u001b[43m    \u001b[49m\u001b[43mlinecolor\u001b[49m\u001b[38;5;241;43m=\u001b[39;49m\u001b[43mlinecolor\u001b[49m\u001b[43m,\u001b[49m\n\u001b[1;32m   1627\u001b[0m \u001b[43m    \u001b[49m\u001b[43mlinewidth\u001b[49m\u001b[38;5;241;43m=\u001b[39;49m\u001b[43mlinewidth\u001b[49m\u001b[43m,\u001b[49m\n\u001b[1;32m   1628\u001b[0m \u001b[43m    \u001b[49m\u001b[43mfliersize\u001b[49m\u001b[38;5;241;43m=\u001b[39;49m\u001b[43mfliersize\u001b[49m\u001b[43m,\u001b[49m\n\u001b[1;32m   1629\u001b[0m \u001b[43m    \u001b[49m\u001b[43mplot_kws\u001b[49m\u001b[38;5;241;43m=\u001b[39;49m\u001b[43mkwargs\u001b[49m\u001b[43m,\u001b[49m\n\u001b[1;32m   1630\u001b[0m \u001b[43m\u001b[49m\u001b[43m)\u001b[49m\n\u001b[1;32m   1632\u001b[0m p\u001b[38;5;241m.\u001b[39m_add_axis_labels(ax)\n\u001b[1;32m   1633\u001b[0m p\u001b[38;5;241m.\u001b[39m_adjust_cat_axis(ax, axis\u001b[38;5;241m=\u001b[39mp\u001b[38;5;241m.\u001b[39morient)\n",
      "File \u001b[0;32m~/.local/lib/python3.10/site-packages/seaborn/categorical.py:691\u001b[0m, in \u001b[0;36m_CategoricalPlotter.plot_boxes\u001b[0;34m(self, width, dodge, gap, fill, whis, color, linecolor, linewidth, fliersize, plot_kws)\u001b[0m\n\u001b[1;32m    670\u001b[0m default_kws \u001b[38;5;241m=\u001b[39m \u001b[38;5;28mdict\u001b[39m(\n\u001b[1;32m    671\u001b[0m     bxpstats\u001b[38;5;241m=\u001b[39mstats\u001b[38;5;241m.\u001b[39mto_dict(\u001b[38;5;124m\"\u001b[39m\u001b[38;5;124mrecords\u001b[39m\u001b[38;5;124m\"\u001b[39m),\n\u001b[1;32m    672\u001b[0m     positions\u001b[38;5;241m=\u001b[39mdata[\u001b[38;5;28mself\u001b[39m\u001b[38;5;241m.\u001b[39morient],\n\u001b[0;32m   (...)\u001b[0m\n\u001b[1;32m    688\u001b[0m     )\n\u001b[1;32m    689\u001b[0m )\n\u001b[1;32m    690\u001b[0m boxplot_kws \u001b[38;5;241m=\u001b[39m {\u001b[38;5;241m*\u001b[39m\u001b[38;5;241m*\u001b[39mdefault_kws, \u001b[38;5;241m*\u001b[39m\u001b[38;5;241m*\u001b[39mplot_kws}\n\u001b[0;32m--> 691\u001b[0m artists \u001b[38;5;241m=\u001b[39m \u001b[43max\u001b[49m\u001b[38;5;241;43m.\u001b[39;49m\u001b[43mbxp\u001b[49m\u001b[43m(\u001b[49m\u001b[38;5;241;43m*\u001b[39;49m\u001b[38;5;241;43m*\u001b[39;49m\u001b[43mboxplot_kws\u001b[49m\u001b[43m)\u001b[49m\n\u001b[1;32m    693\u001b[0m \u001b[38;5;66;03m# Reset artist widths after adding so everything stays positive\u001b[39;00m\n\u001b[1;32m    694\u001b[0m ori_idx \u001b[38;5;241m=\u001b[39m [\u001b[38;5;124m\"\u001b[39m\u001b[38;5;124mx\u001b[39m\u001b[38;5;124m\"\u001b[39m, \u001b[38;5;124m\"\u001b[39m\u001b[38;5;124my\u001b[39m\u001b[38;5;124m\"\u001b[39m]\u001b[38;5;241m.\u001b[39mindex(\u001b[38;5;28mself\u001b[39m\u001b[38;5;241m.\u001b[39morient)\n",
      "File \u001b[0;32m~/.local/lib/python3.10/site-packages/matplotlib/axes/_axes.py:4231\u001b[0m, in \u001b[0;36mAxes.bxp\u001b[0;34m(self, bxpstats, positions, widths, vert, patch_artist, shownotches, showmeans, showcaps, showbox, showfliers, boxprops, whiskerprops, flierprops, medianprops, capprops, meanprops, meanline, manage_ticks, zorder, capwidths)\u001b[0m\n\u001b[1;32m   4229\u001b[0m     positions \u001b[38;5;241m=\u001b[39m \u001b[38;5;28mlist\u001b[39m(\u001b[38;5;28mrange\u001b[39m(\u001b[38;5;241m1\u001b[39m, N \u001b[38;5;241m+\u001b[39m \u001b[38;5;241m1\u001b[39m))\n\u001b[1;32m   4230\u001b[0m \u001b[38;5;28;01melif\u001b[39;00m \u001b[38;5;28mlen\u001b[39m(positions) \u001b[38;5;241m!=\u001b[39m N:\n\u001b[0;32m-> 4231\u001b[0m     \u001b[38;5;28;01mraise\u001b[39;00m \u001b[38;5;167;01mValueError\u001b[39;00m(datashape_message\u001b[38;5;241m.\u001b[39mformat(\u001b[38;5;124m\"\u001b[39m\u001b[38;5;124mpositions\u001b[39m\u001b[38;5;124m\"\u001b[39m))\n\u001b[1;32m   4233\u001b[0m positions \u001b[38;5;241m=\u001b[39m np\u001b[38;5;241m.\u001b[39marray(positions)\n\u001b[1;32m   4234\u001b[0m \u001b[38;5;28;01mif\u001b[39;00m \u001b[38;5;28mlen\u001b[39m(positions) \u001b[38;5;241m>\u001b[39m \u001b[38;5;241m0\u001b[39m \u001b[38;5;129;01mand\u001b[39;00m \u001b[38;5;129;01mnot\u001b[39;00m \u001b[38;5;28mall\u001b[39m(\u001b[38;5;28misinstance\u001b[39m(p, Real) \u001b[38;5;28;01mfor\u001b[39;00m p \u001b[38;5;129;01min\u001b[39;00m positions):\n",
      "\u001b[0;31mValueError\u001b[0m: List of boxplot statistics and `positions` values must have same the length"
     ]
    },
    {
     "data": {
      "image/png": "[encoded data removed]",
      "text/plain": [
       "<Figure size 800x600 with 1 Axes>"
      ]
     },
     "metadata": {},
     "output_type": "display_data"
    }
   ],
   "source": [
    "df = pd.DataFrame(data)\n",
    "\n",
    "# I \n",
    "plt.figure(figsize=(8,6))\n",
    "\n",
    "# Get name of all configs \n",
    "# [config1, config2, ... ]\n",
    "unique_configs = df['conf'].unique()\n",
    "\n",
    "sns.boxplot(x='conf', y='time', data=df)\n",
    "\n",
    "#df\n",
    "plt.show()"
   ]
  },
  {
   "cell_type": "code",
   "execution_count": 116,
   "metadata": {
    "scrolled": true
   },
   "outputs": [
    {
     "data": {
      "image/png": "[encoded data removed]",
      "text/plain": [
       "<Figure size 700x400 with 1 Axes>"
      ]
     },
     "metadata": {},
     "output_type": "display_data"
    }
   ],
   "source": [
    "df = pd.DataFrame(data)\n",
    "\n",
    "# We are using subplots for easier work with x,y labels \n",
    "fig, ax = plt.subplots(figsize=(7,4))\n",
    "plt.grid(True)\n",
    "\n",
    "# For each configuration -> \n",
    "#   do boxplot \n",
    "sns.boxplot(x='conf', y='time', data=df)\n",
    "\n",
    "# Set axis labels \n",
    "ax.set(xlabel=\"Configuration\", ylabel=\"Time\")\n",
    "plt.show()\n",
    "\n"
   ]
  },
  {
   "cell_type": "markdown",
   "metadata": {},
   "source": [
    "__OTÁZKA K DOPLNĚNÍ:__\n",
    "\n",
    "_Objevily se nějaké chybné hodnoty? Proč tam jsou s ohledem na to, že se jedná o běhy algoritmů?_\n",
    "\n",
    "\n",
    "  Boxplot nám ukazuje očekávané minimum (max(min(X), Q1 – 1.5 * (Q3-Q1))) a očekávané maximum (analogicky k minimu) pro jednotlivé konfigurace. Vidíme, že na grafu existují hodnoty, které nespadají do těchto očekávaných rozsahů. Tyto hodnoty jsou zobrazeny jako kroužky.\n",
    "\n",
    "Odchylky, blížící se k času 0: \n",
    "  Na první pohled se tyto odchylky nemusí jevit jako vážný problém, ale je třeba mít na paměti, že čas nemůže být záporný. Pokud se čas blíží k nule, může to naznačovat, že se proces vlastně nepodařilo spustit.\n",
    "\n",
    "Odchylky, blížící se k času 3600:\n",
    "  Tyto odchylky jsou velmi výrazné. Vzhledem k tomu, že všechny tyto odchylky mají stejnou výšku, můžeme předpokládat, že jde o nějaký maximální časový limit, po němž je proces ukončen.\n",
    "\n"
   ]
  },
  {
   "cell_type": "markdown",
   "metadata": {},
   "source": [
    "Vyčistěte dataframe `df` tak, aby tam tyto hodnoty nebyly a ukažte znovu analýzu toho, že čištění dat bylo úspěšné. Odtud dále pracujte s vyčištěným datasetem."
   ]
  },
  {
   "cell_type": "code",
   "execution_count": 121,
   "metadata": {},
   "outputs": [
    {
     "data": {
      "image/png": "[encoded data removed]",
      "text/plain": [
       "<Figure size 1000x1000 with 1 Axes>"
      ]
     },
     "metadata": {},
     "output_type": "display_data"
    }
   ],
   "source": [
    "df = pd.DataFrame(data)\n",
    "\n",
    "# Create array where we will be inserting filtered data \n",
    "#   for each configuration.\n",
    "df_filtered_array = []\n",
    "\n",
    "# Find all the unique configuration in data \n",
    "unique_configs = df['conf'].unique()\n",
    "\n",
    "# iterate throught config names \n",
    "for name in unique_configs:\n",
    "    # get subframe of data matching one config \n",
    "    one_df = df[df['conf'] == str(name)]\n",
    "\n",
    "    # Count quantils, using formula from lecture \n",
    "    q_up = one_df['time'].quantile(0.75) \n",
    "    q_down = one_df['time'].quantile(0.25) \n",
    "    IQR = q_up - q_down\n",
    "    min = q_down - 1.5 * IQR\n",
    "    max = q_up + 1.5 * IQR\n",
    "\n",
    "    # Create a boolean mask for rows to be removed\n",
    "    mask_upper = one_df['time'] < max\n",
    "    mask_bottom = one_df['time'] > min\n",
    "    \n",
    "    # combine masks \n",
    "    mask_combined = mask_upper & mask_bottom\n",
    "\n",
    "    # append filtered data \n",
    "    df_filtered_array.append(one_df[mask_combined])\n",
    "\n",
    "## Put filtered data into the data frame \n",
    "df_filtered = pd.concat(df_filtered_array, ignore_index=True)\n",
    "\n",
    "# plot \n",
    "plt.figure(figsize=(10,10))\n",
    "plt.xlabel('Configuration')\n",
    "plt.ylabel('Time')\n",
    "sns.boxplot(x='conf', y='time', data=df_filtered)\n",
    "plt.grid(True)\n",
    "plt.show()\n",
    "\n"
   ]
  },
  {
   "cell_type": "markdown",
   "metadata": {},
   "source": [
    "## Deskriptivní popis hodnot\n",
    "Vypište pro jednotlivé konfigurace základní deskriptivní parametry času pro jednotlivé konfigurace.  \n",
    "\n",
    "__TIP__ pokud výsledky uložíte jako Pandas DataFrame, zobrazí se v tabulce."
   ]
  },
  {
   "cell_type": "code",
   "execution_count": 120,
   "metadata": {},
   "outputs": [
    {
     "data": {
      "text/html": [
       "<div>\n",
       "<style scoped>\n",
       "    .dataframe tbody tr th:only-of-type {\n",
       "        vertical-align: middle;\n",
       "    }\n",
       "\n",
       "    .dataframe tbody tr th {\n",
       "        vertical-align: top;\n",
       "    }\n",
       "\n",
       "    .dataframe thead th {\n",
       "        text-align: right;\n",
       "    }\n",
       "</style>\n",
       "<table border=\"1\" class=\"dataframe\">\n",
       "  <thead>\n",
       "    <tr style=\"text-align: right;\">\n",
       "      <th></th>\n",
       "      <th>count</th>\n",
       "      <th>mean</th>\n",
       "      <th>std</th>\n",
       "      <th>min</th>\n",
       "      <th>25%</th>\n",
       "      <th>50%</th>\n",
       "      <th>75%</th>\n",
       "      <th>max</th>\n",
       "    </tr>\n",
       "    <tr>\n",
       "      <th>conf</th>\n",
       "      <th></th>\n",
       "      <th></th>\n",
       "      <th></th>\n",
       "      <th></th>\n",
       "      <th></th>\n",
       "      <th></th>\n",
       "      <th></th>\n",
       "      <th></th>\n",
       "    </tr>\n",
       "  </thead>\n",
       "  <tbody>\n",
       "    <tr>\n",
       "      <th>config1</th>\n",
       "      <td>190.0</td>\n",
       "      <td>99.449016</td>\n",
       "      <td>8.866788</td>\n",
       "      <td>80.124311</td>\n",
       "      <td>93.034540</td>\n",
       "      <td>99.799944</td>\n",
       "      <td>104.737728</td>\n",
       "      <td>121.904556</td>\n",
       "    </tr>\n",
       "    <tr>\n",
       "      <th>config2</th>\n",
       "      <td>195.0</td>\n",
       "      <td>151.688034</td>\n",
       "      <td>18.583050</td>\n",
       "      <td>107.522086</td>\n",
       "      <td>138.003905</td>\n",
       "      <td>151.516091</td>\n",
       "      <td>163.764042</td>\n",
       "      <td>196.293171</td>\n",
       "    </tr>\n",
       "    <tr>\n",
       "      <th>config3</th>\n",
       "      <td>194.0</td>\n",
       "      <td>138.292420</td>\n",
       "      <td>19.393682</td>\n",
       "      <td>90.567110</td>\n",
       "      <td>124.769359</td>\n",
       "      <td>138.448002</td>\n",
       "      <td>151.501348</td>\n",
       "      <td>185.413857</td>\n",
       "    </tr>\n",
       "    <tr>\n",
       "      <th>config4</th>\n",
       "      <td>199.0</td>\n",
       "      <td>110.317016</td>\n",
       "      <td>30.656816</td>\n",
       "      <td>29.093401</td>\n",
       "      <td>88.742158</td>\n",
       "      <td>110.782732</td>\n",
       "      <td>130.665606</td>\n",
       "      <td>188.971462</td>\n",
       "    </tr>\n",
       "    <tr>\n",
       "      <th>config5</th>\n",
       "      <td>196.0</td>\n",
       "      <td>184.049441</td>\n",
       "      <td>28.276656</td>\n",
       "      <td>114.035821</td>\n",
       "      <td>164.072975</td>\n",
       "      <td>183.916111</td>\n",
       "      <td>201.255548</td>\n",
       "      <td>255.807973</td>\n",
       "    </tr>\n",
       "    <tr>\n",
       "      <th>config6</th>\n",
       "      <td>194.0</td>\n",
       "      <td>163.450775</td>\n",
       "      <td>19.817267</td>\n",
       "      <td>110.011886</td>\n",
       "      <td>150.325780</td>\n",
       "      <td>164.185319</td>\n",
       "      <td>177.846198</td>\n",
       "      <td>208.795048</td>\n",
       "    </tr>\n",
       "  </tbody>\n",
       "</table>\n",
       "</div>"
      ],
      "text/plain": [
       "         count        mean        std         min         25%         50%  \\\n",
       "conf                                                                        \n",
       "config1  190.0   99.449016   8.866788   80.124311   93.034540   99.799944   \n",
       "config2  195.0  151.688034  18.583050  107.522086  138.003905  151.516091   \n",
       "config3  194.0  138.292420  19.393682   90.567110  124.769359  138.448002   \n",
       "config4  199.0  110.317016  30.656816   29.093401   88.742158  110.782732   \n",
       "config5  196.0  184.049441  28.276656  114.035821  164.072975  183.916111   \n",
       "config6  194.0  163.450775  19.817267  110.011886  150.325780  164.185319   \n",
       "\n",
       "                75%         max  \n",
       "conf                             \n",
       "config1  104.737728  121.904556  \n",
       "config2  163.764042  196.293171  \n",
       "config3  151.501348  185.413857  \n",
       "config4  130.665606  188.971462  \n",
       "config5  201.255548  255.807973  \n",
       "config6  177.846198  208.795048  "
      ]
     },
     "execution_count": 120,
     "metadata": {},
     "output_type": "execute_result"
    }
   ],
   "source": [
    "group = df_filtered.groupby('conf')\n",
    "\n",
    "pd.DataFrame(group['time'].describe())\n"
   ]
  },
  {
   "cell_type": "markdown",
   "metadata": {},
   "source": [
    "__OTÁZKA K DOPLNĚNÍ:__\n",
    "\n",
    "_Okomentujte, co všechno můžeme z parametrů vyčíst._\n",
    "\n",
    "Count (Počet): Tato hodnota udává, kolik záznamů je k dispozici pro každou konfiguraci.\n",
    "\n",
    "Mean (Průměr): Průměrná hodnota pro každou konfiguraci. \n",
    "\n",
    "Std (Směrodatná odchylka): Udává měřítko variability dat. Směrodatná odchylka pro \"config1\" je přibližně 8.87. Čím vyšší hodnota směrodatné odchylky, tím více jsou data rozptýlena od průměrné hodnoty, tedy v případě normálního rozdělení je gaussova křivka více zploštělá.\n",
    "\n",
    "Min (Minimum): Nejmenší hodnota v datasetu pro každou konfiguraci. \n",
    "\n",
    "25% (První kvartil): Hodnota, pod kterou spadá čtvrtina dat.\n",
    "\n",
    "50% (Medián): Medián je střední hodnota datasetu, což znamená, že 50% dat leží nad ním a 50% dat leží pod ním.\n",
    "\n",
    "75% (Třetí kvartil): Hodnota, pod kterou spadá tři čtvrtiny dat. \n",
    "\n",
    "Max (Maximum): Největší hodnota v datasetu pro každou konfiguraci. "
   ]
  },
  {
   "cell_type": "markdown",
   "metadata": {},
   "source": [
    "## Vizualizace\n",
    "Vizualizujte časy běhů algoritmů v jednom kompaktním grafu tak, aby byl zřejmý i rozptyl hodnot. Zvolte vhodný graf, který pak níže komentujte."
   ]
  },
  {
   "cell_type": "code",
   "execution_count": 122,
   "metadata": {
    "scrolled": true
   },
   "outputs": [
    {
     "data": {
      "image/png": "[encoded data removed]",
      "text/plain": [
       "<Figure size 1000x1000 with 1 Axes>"
      ]
     },
     "metadata": {},
     "output_type": "display_data"
    }
   ],
   "source": [
    "# Vyuzijeme stejny typ grafu jako v predchozi uloze  \n",
    "plt.figure(figsize=(10,10))\n",
    "plt.xlabel('Configuration')\n",
    "plt.ylabel('Time')\n",
    "sns.boxplot(x='conf', y='time', data=df_filtered)\n",
    "plt.grid(True)\n",
    "plt.show()\n"
   ]
  },
  {
   "cell_type": "markdown",
   "metadata": {},
   "source": [
    "__OTÁZKA K DOPLNĚNÍ:__\n",
    "\n",
    "_Okomentujte výsledky z tabulky._\n",
    "\n",
    "Na grafu máme boxploty, pro jednotlivé konfigurace. Modrá obdélníková část boxplotu ukazuje rozsah dat mezi prvním kvartilem (Q1) a třetím kvartilem (Q3), což je oblast, kde se nachází středních 50% dat, tzv IQR (Interquatile Range). Přičemž čim vyšší je box (obdelník) na ose 'y' tím větší směrodatnou odchylku dat máme, tedy tím více jsou data royptýlená od středu. \n",
    "\n",
    "Čára uprostřed boxu: Tato čára v boxu reprezentuje medián, což je střední hodnota dat.\n",
    "\n",
    "Vodorovné čáry (vousy) označují rozsah ve, kterém se nachází všechna data, ten odpovídá: (Q1-1.5*IQ, Q3+1.5*IQR). "
   ]
  },
  {
   "cell_type": "markdown",
   "metadata": {},
   "source": [
    "## Určení efektivity konfigurací algoritmů\n",
    "Nás ale zajímá, jaká konfigurace je nejrychlejší. Z výše vykresleného grafu můžeme vyloučit některé konfigurace. Existuje tam však minimálně jedna dvojice, u které nedokážeme jednoznačně určit, která je lepší - pokud nebudeme porovnávat pouze extrémní hodnoty, které mohou být dané náhodou, ale celkově. Proto proveďte vhodný test významnosti - v následující části diskutujte zejména rozložení dat (i s odkazem na předchozí buňky, variabilitu vs polohu a podobně). Je nutné každý logický krok a výběry statistických funkcí komentovat. Můžete i přidat další buňky.\n",
    "\n",
    "Vužijte vhodnou funkci z knihovny `scipy.stats` a funkci poté __implementujte sami__ na základě základních matematických funkcí knihovny `numpy` případně i funkcí pro výpočet studentova rozložení v [scipy.stats](https://docs.scipy.org/doc/scipy/reference/generated/scipy.stats.t.html). Při vlastní implementaci není nutné se primárně soustředit na efektivitu výpočtu (není potřeba využít všechny funkce numpy, můžete použít normální cykly a podobně - v hodnocení však bude zahrnuta přehlednost a neměly by se objevit jasné chyby, jako je zvýšení třídy složitosti a podobně)."
   ]
  },
  {
   "cell_type": "markdown",
   "metadata": {},
   "source": [
    "__OTÁZKA K DOPLNĚNÍ:__\n",
    "\n",
    "_Jaká data budete zkoumat? Jaké mají rozložení a parametry (např. varianci) a jaký test použijete? Jaká je nulová hypotéza? Jak se liší variabilita a poloha vybraných konfigurací?_\n",
    "\n",
    "Zkoumáme data týkající se konfigurací config1 a config4. Zdá se, že config1 má lepší střední hodnotu, zatímco config4 má vyšší rozptyl. Na první pohled však nedokážeme říci, který config je lepší.\n",
    "\n",
    "Zvolený test\n",
    "- Pro srovnání těchto konfigurací používáme párový t-test, při kterém bereme v úvahu, že hodnoty jsou nezávislé a rozptyly jsou různé.\n",
    "\n",
    "Nulová hypotéza\n",
    "- Nulová hypotéza, kterou testujeme, tvrdí, že tyto dvě konfigurace mají stejné průměrné hodnoty. To by znamenalo, že neexistuje žádný statisticky významný rozdíl mezi časy běhu konfigurace 1 a konfigurace 4.\n",
    "\n",
    "Poloha konfigurací\n",
    "- Pokud jde o polohu vybraných konfigurací, konkrétně statistiky jako medián, průměr a vyšší kvantily, vypadají lépe pro config1. Na druhé straně, nižší kvantily jsou výhodnější pro config4.\n",
    "\n",
    "Variabilita konfigurací\n",
    "- config4 má jasně větší variabilitu, tedy data jsou více roztahaná. Ať už jde o IQR, či rozptyl. "
   ]
  },
  {
   "cell_type": "code",
   "execution_count": 163,
   "metadata": {},
   "outputs": [
    {
     "name": "stdout",
     "output_type": "stream",
     "text": [
      "Hypothesis: Samples are from the data with same mean\n",
      "Hypothesis proof to be wrong.\n",
      "There is statistical difference between config1 and config4 on 0.05 significance level.\n",
      "config4 is faster.\n"
     ]
    }
   ],
   "source": [
    "# Get the pandas of configurations \n",
    "data_config1 = df_filtered[df_filtered['conf'] == 'config1']\n",
    "data_config4 = df_filtered[df_filtered['conf'] == 'config4']\n",
    "\n",
    "# Get the pure data of configuration (time) \n",
    "time_config1 = data_config1['time'].to_numpy()\n",
    "time_config4 = data_config4['time'].to_numpy()\n",
    "\n",
    "### !!!\n",
    "# assuming the null hypothesis, that the samples are \n",
    "# drawn from populations with the same population means, is true. \n",
    "print(\"Hypothesis: Samples are from the data with same mean\")\n",
    "\n",
    "# We are also considering different variance. \n",
    "t_statistic, p_value = stats.ttest_ind(time_config1, time_config4, equal_var=False)\n",
    "\n",
    "# Determine which group has a smaller mean\n",
    "significance_level = 0.05  # significance level\n",
    "if p_value < significance_level:\n",
    "\n",
    "    # Therefore, the statistic will be positive when the sample mean of a is greater\n",
    "    # than the sample mean of b and negative when the sample mean of a is less than the sample mean of b.\n",
    "    print(\"Hypothesis proof to be wrong.\")\n",
    "    print(\"There is statistical difference between config1 and config4 on 0.05 significance level.\")\n",
    "    if (t_statistic > 0):\n",
    "        print(\"config1 is faster.\")\n",
    "    else:\n",
    "        print(\"config4 is faster.\")\n",
    "\n",
    "else:\n",
    "    print(\"Hypothesis proof to be right.\")\n",
    "    print(\"There is no statisticall difference between config1 and config4 on 0.05 significance level.\")"
   ]
  },
  {
   "cell_type": "markdown",
   "metadata": {},
   "source": [
    "__OTÁZKA K DOPLNĚNÍ:__\n",
    "\n",
    "Závěr statistického testu je, že jsme s mírou věrohodnosti 0.05 rozhodli, že je config4 rychlejší. "
   ]
  },
  {
   "cell_type": "code",
   "execution_count": null,
   "metadata": {},
   "outputs": [],
   "source": [
    "# TODO vlastni implementace zvoleneho testu"
   ]
  }
 ],
 "metadata": {
  "kernelspec": {
   "display_name": "Python 3 (ipykernel)",
   "language": "python",
   "name": "python3"
  },
  "language_info": {
   "codemirror_mode": {
    "name": "ipython",
    "version": 3
   },
   "file_extension": ".py",
   "mimetype": "text/x-python",
   "name": "python",
   "nbconvert_exporter": "python",
   "pygments_lexer": "ipython3",
   "version": "3.10.12"
  }
 },
 "nbformat": 4,
 "nbformat_minor": 4
}
